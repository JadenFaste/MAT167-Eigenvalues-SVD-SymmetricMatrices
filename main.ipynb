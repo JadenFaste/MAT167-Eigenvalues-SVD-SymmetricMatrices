{
 "cells": [
  {
   "cell_type": "markdown",
   "metadata": {},
   "source": [
    "# Question 6\n",
    "Part A: Generate a 10x10 random matrix"
   ]
  },
  {
   "cell_type": "code",
   "execution_count": 12,
   "metadata": {},
   "outputs": [
    {
     "name": "stdout",
     "output_type": "stream",
     "text": [
      "[[10.97627008 14.30378733 12.05526752 10.89766366  8.47309599 12.91788226\n",
      "   8.75174423 17.83546002 19.27325521  7.66883038]\n",
      " [15.83450076 10.5778984  11.36089122 18.51193277  1.42072116  1.74258599\n",
      "   0.40436795 16.65239691 15.56313502 17.40024296]\n",
      " [19.57236684 15.98317128  9.22958725 15.61058353  2.36548852 12.79842043\n",
      "   2.86706575 18.89337834 10.43696644  8.2932388 ]\n",
      " [ 5.29111224 15.48467379  9.12300664 11.36867898  0.37579601 12.35270994\n",
      "  12.24191445 12.33867994 18.87496157 13.63640598]\n",
      " [ 7.19015801  8.74063908 13.95262392  1.20450943 13.33533431 13.41275739\n",
      "   4.20765122  2.57852595  6.30856702  7.27421542]\n",
      " [11.40393541  8.77203027 19.76747676  2.04089621  4.17753512  3.22619036\n",
      "  13.06216651  5.06583205  9.32621546  4.88851184]\n",
      " [ 3.17939167  2.20750282 13.12659179  2.76365903  3.93164723  7.37450341\n",
      "  16.4198646   1.94202552 16.75889815  1.92196816]\n",
      " [19.5291893   9.37302403 19.53522176 12.09691039 14.78527159  0.78375585\n",
      "   5.65613925  2.40393122  5.92280395  2.37455438]\n",
      " [ 6.35966359  8.28525989  1.28294993 13.84944239 11.33202908  5.30778982\n",
      "  10.46496107  1.87881022 11.51892991 18.58592395]\n",
      " [ 6.37137905 13.3482076   2.63595725 14.32654408  5.78812186  3.66382724\n",
      "  11.7302587   0.40215092 16.57880058  0.09390952]]\n"
     ]
    }
   ],
   "source": [
    "import numpy as np\n",
    "from scipy.linalg import svd, eig\n",
    "\n",
    "np.random.seed(0)  # For reproducibility\n",
    "A = 20 * (np.random.rand(10, 10))\n",
    "print(A)"
   ]
  },
  {
   "cell_type": "markdown",
   "metadata": {},
   "source": [
    "part B: Generate Eigenvalues"
   ]
  },
  {
   "cell_type": "code",
   "execution_count": 13,
   "metadata": {},
   "outputs": [
    {
     "name": "stdout",
     "output_type": "stream",
     "text": [
      "Eigenvalues of A:\n",
      "[ 96.51219018+0.j          19.21023184+0.j\n",
      "  16.44808113+0.j         -15.96781383+1.49688563j\n",
      " -15.96781383-1.49688563j  -8.92601657+0.65850417j\n",
      "  -8.92601657-0.65850417j   1.47572628+7.06282219j\n",
      "   1.47572628-7.06282219j   3.8162997 +0.j        ]\n"
     ]
    }
   ],
   "source": [
    "eigenvalues, _ = eig(A)\n",
    "print(\"Eigenvalues of A:\")\n",
    "print(eigenvalues)"
   ]
  },
  {
   "cell_type": "markdown",
   "metadata": {},
   "source": [
    "Part C: Eigenvalue real check "
   ]
  },
  {
   "cell_type": "code",
   "execution_count": 16,
   "metadata": {},
   "outputs": [
    {
     "name": "stdout",
     "output_type": "stream",
     "text": [
      "Real Eigenvalues of A:\n",
      "[(96.51219017786045+0j), (19.210231844527975+0j), (16.44808113372758+0j), (3.81629970407358+0j)]\n"
     ]
    }
   ],
   "source": [
    "real_eigenvalues = [val for val in eigenvalues if np.isclose(val.imag, 0)]\n",
    "print(\"Real Eigenvalues of A:\")\n",
    "print(real_eigenvalues)"
   ]
  },
  {
   "cell_type": "markdown",
   "metadata": {},
   "source": [
    "Part D: find Singular values of A"
   ]
  },
  {
   "cell_type": "code",
   "execution_count": 17,
   "metadata": {},
   "outputs": [
    {
     "name": "stdout",
     "output_type": "stream",
     "text": [
      "Singular values: [98.2983481  29.28287938 26.15214231 20.52939995 17.099897   15.07640661\n",
      "  8.07955393  5.85349896  4.3683713   1.51667655]\n"
     ]
    }
   ],
   "source": [
    "singular_values = svd(A, compute_uv=False)\n",
    "print(\"Singular values:\", singular_values)"
   ]
  },
  {
   "cell_type": "markdown",
   "metadata": {},
   "source": [
    "Part E: SVD real check"
   ]
  },
  {
   "cell_type": "code",
   "execution_count": 18,
   "metadata": {},
   "outputs": [
    {
     "name": "stdout",
     "output_type": "stream",
     "text": [
      "Are all singular values real? True\n"
     ]
    }
   ],
   "source": [
    "are_singular_values_real = np.all(np.isreal(singular_values))\n",
    "print(\"Are all singular values real?\", are_singular_values_real)"
   ]
  },
  {
   "cell_type": "markdown",
   "metadata": {},
   "source": [
    "Step F: Compare singular values to eigenvalues "
   ]
  },
  {
   "cell_type": "code",
   "execution_count": 20,
   "metadata": {},
   "outputs": [
    {
     "name": "stdout",
     "output_type": "stream",
     "text": [
      "Are singular values the same as the eigenvalues?  False\n"
     ]
    }
   ],
   "source": [
    "eigenvalues_sorted = np.sort(np.abs(eigenvalues))[::-1]\n",
    "singular_values_sorted = np.sort(singular_values)[::-1]\n",
    "print(\"Are singular values the same as the eigenvalues? \", np.allclose(eigenvalues_sorted, singular_values_sorted))"
   ]
  },
  {
   "cell_type": "markdown",
   "metadata": {},
   "source": [
    "Part G: symmetric matrix conversion"
   ]
  },
  {
   "cell_type": "code",
   "execution_count": 21,
   "metadata": {},
   "outputs": [
    {
     "name": "stdout",
     "output_type": "stream",
     "text": [
      "[[10.97627008 15.06914404 15.81381718  8.09438795  7.831627   12.16090883\n",
      "   5.96556795 18.68232466 12.8164594   7.02010471]\n",
      " [15.06914404 10.5778984  13.67203125 16.99830328  5.08068012  5.25730813\n",
      "   1.30593539 13.01271047 11.92419745 15.37422528]\n",
      " [15.81381718 13.67203125  9.22958725 12.36679509  8.15905622 16.28294859\n",
      "   7.99682877 19.21430005  5.85995818  5.46459802]\n",
      " [ 8.09438795 16.99830328 12.36679509 11.36867898  0.79015272  7.19680308\n",
      "   7.50278674 12.21779517 16.36220198 13.98147503]\n",
      " [ 7.831627    5.08068012  8.15905622  0.79015272 13.33533431  8.79514626\n",
      "   4.06964923  8.68189877  8.82029805  6.53116864]\n",
      " [12.16090883  5.25730813 16.28294859  7.19680308  8.79514626  3.22619036\n",
      "  10.21833496  2.92479395  7.31700264  4.27616954]\n",
      " [ 5.96556795  1.30593539  7.99682877  7.50278674  4.06964923 10.21833496\n",
      "  16.4198646   3.79908238 13.61192961  6.82611343]\n",
      " [18.68232466 13.01271047 19.21430005 12.21779517  8.68189877  2.92479395\n",
      "   3.79908238  2.40393122  3.90080708  1.38835265]\n",
      " [12.8164594  11.92419745  5.85995818 16.36220198  8.82029805  7.31700264\n",
      "  13.61192961  3.90080708 11.51892991 17.58236227]\n",
      " [ 7.02010471 15.37422528  5.46459802 13.98147503  6.53116864  4.27616954\n",
      "   6.82611343  1.38835265 17.58236227  0.09390952]]\n"
     ]
    }
   ],
   "source": [
    "As = (A + A.T) / 2\n",
    "print(As)"
   ]
  },
  {
   "cell_type": "markdown",
   "metadata": {},
   "source": [
    "Part H: Repeat with symmetric matrix"
   ]
  },
  {
   "cell_type": "code",
   "execution_count": 26,
   "metadata": {},
   "outputs": [
    {
     "name": "stdout",
     "output_type": "stream",
     "text": [
      "Eigenvalues of As:\n",
      "[ 97.52207344+0.j  22.62768354+0.j  18.52487549+0.j -21.54583336+0.j\n",
      "  10.38597708+0.j -15.73403841+0.j -12.80116478+0.j  -0.72156405+0.j\n",
      "  -2.27128689+0.j  -6.83612742+0.j]\n",
      "Real Eigenvalues of A:\n",
      "[(97.52207343632773+0j), (22.627683535121125+0j), (18.524875487590425+0j), (-21.545833361488512+0j), (10.385977078262073+0j), (-15.734038411787171+0j), (-12.801164778700912+0j), (-0.7215640530867955+0j), (-2.271286892963698+0j), (-6.836127420427997+0j)]\n",
      "Singular values: [97.52207344 22.62768354 21.54583336 18.52487549 15.73403841 12.80116478\n",
      " 10.38597708  6.83612742  2.27128689  0.72156405]\n",
      "Are all singular values real? True\n",
      "Are singular values the same as the eigenvalues?  True\n"
     ]
    }
   ],
   "source": [
    "eigenvalues, _ = eig(As)\n",
    "print(\"Eigenvalues of As:\")\n",
    "print(eigenvalues)\n",
    "\n",
    "real_eigenvalues = [val for val in eigenvalues if np.isclose(val.imag, 0)]\n",
    "print(\"Real Eigenvalues of A:\")\n",
    "print(real_eigenvalues)\n",
    "\n",
    "singular_values = svd(As, compute_uv=False)\n",
    "print(\"Singular values:\", singular_values)\n",
    "\n",
    "are_singular_values_real = np.all(np.isreal(singular_values))\n",
    "print(\"Are all singular values real?\", are_singular_values_real)\n",
    "\n",
    "eigenvalues_sorted = np.sort(np.abs(eigenvalues))[::-1]\n",
    "singular_values_sorted = np.sort(singular_values)[::-1]\n",
    "print(\"Are singular values the same as the eigenvalues? \", np.allclose(eigenvalues_sorted, singular_values_sorted))"
   ]
  },
  {
   "cell_type": "markdown",
   "metadata": {},
   "source": [
    "Step i: Sort absolute values of eigenvalues of As in descending order\n"
   ]
  },
  {
   "cell_type": "code",
   "execution_count": 28,
   "metadata": {},
   "outputs": [
    {
     "name": "stdout",
     "output_type": "stream",
     "text": [
      "Sorted absolute eigenvalues of As in descending order: [97.52207344 22.62768354 21.54583336 18.52487549 15.73403841 12.80116478\n",
      " 10.38597708  6.83612742  2.27128689  0.72156405]\n"
     ]
    }
   ],
   "source": [
    "eigenvalues_sorted_desc = np.sort(np.abs(eigenvalues))[::-1]\n",
    "print(\"Sorted absolute eigenvalues of As in descending order:\", eigenvalues_sorted_desc)"
   ]
  },
  {
   "cell_type": "markdown",
   "metadata": {},
   "source": [
    "step j: difference etween vectors of eigenvalues and vector of singular values"
   ]
  },
  {
   "cell_type": "code",
   "execution_count": 29,
   "metadata": {},
   "outputs": [
    {
     "name": "stdout",
     "output_type": "stream",
     "text": [
      "Difference r: [ 1.56319402e-13  5.32907052e-14  3.55271368e-14  1.06581410e-14\n",
      "  1.77635684e-15  1.77635684e-15  1.42108547e-14  3.55271368e-15\n",
      "  0.00000000e+00 -1.55431223e-15]\n"
     ]
    }
   ],
   "source": [
    "r = eigenvalues_sorted_desc - singular_values_sorted\n",
    "print(\"Difference r:\", r)\n",
    "# This vector is small"
   ]
  },
  {
   "cell_type": "markdown",
   "metadata": {},
   "source": [
    "Part k: take norm of r"
   ]
  },
  {
   "cell_type": "code",
   "execution_count": 30,
   "metadata": {},
   "outputs": [
    {
     "name": "stdout",
     "output_type": "stream",
     "text": [
      "Norm of r: 1.6992564555596449e-13\n"
     ]
    }
   ],
   "source": [
    "norm_r = np.linalg.norm(r)\n",
    "print(\"Norm of r:\", norm_r)"
   ]
  },
  {
   "cell_type": "markdown",
   "metadata": {},
   "source": [
    "Compare norm of r to machine epsilon"
   ]
  },
  {
   "cell_type": "code",
   "execution_count": 32,
   "metadata": {},
   "outputs": [
    {
     "name": "stdout",
     "output_type": "stream",
     "text": [
      "Comparison value: 1.5913828481644784e-15\n"
     ]
    }
   ],
   "source": [
    "machine_epsilon = 1e-16\n",
    "comparison_value = norm_r / (0.5 * (np.linalg.norm(eigenvalues_sorted_desc) + np.linalg.norm(singular_values_sorted)))\n",
    "print(\"Comparison value:\", comparison_value)"
   ]
  },
  {
   "cell_type": "code",
   "execution_count": 33,
   "metadata": {},
   "outputs": [
    {
     "name": "stdout",
     "output_type": "stream",
     "text": [
      "Is the comparison value close to the machine epsilon? False\n"
     ]
    }
   ],
   "source": [
    "print(\"Is the comparison value close to the machine epsilon?\", comparison_value < machine_epsilon)"
   ]
  }
 ],
 "metadata": {
  "kernelspec": {
   "display_name": "Python 3",
   "language": "python",
   "name": "python3"
  },
  "language_info": {
   "codemirror_mode": {
    "name": "ipython",
    "version": 3
   },
   "file_extension": ".py",
   "mimetype": "text/x-python",
   "name": "python",
   "nbconvert_exporter": "python",
   "pygments_lexer": "ipython3",
   "version": "3.12.4"
  }
 },
 "nbformat": 4,
 "nbformat_minor": 2
}
